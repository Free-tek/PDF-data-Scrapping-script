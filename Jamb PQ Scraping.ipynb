{
 "cells": [
  {
   "cell_type": "code",
   "execution_count": 22,
   "metadata": {},
   "outputs": [],
   "source": [
    "# modules for \n",
    "import PyPDF2\n"
   ]
  },
  {
   "cell_type": "code",
   "execution_count": 26,
   "metadata": {},
   "outputs": [
    {
     "name": "stdout",
     "output_type": "stream",
     "text": [
      "45\n"
     ]
    }
   ],
   "source": [
    "# pdf file object\n",
    "# you can find find the pdf file with complete code below\n",
    "pdfFileObj = open('biology.pdf', 'rb')\n",
    "# pdf reader object\n",
    "pdfReader = PyPDF2.PdfFileReader(pdfFileObj)\n",
    "# number of pages in pdf\n",
    "print(pdfReader.numPages)\n",
    "# a page object\n",
    "pageObj = pdfReader.getPage(0)\n",
    "# extracting text from page.\n",
    "# this will print the text you can also save that into String\n",
    "text = (pageObj.extractText())"
   ]
  },
  {
   "cell_type": "code",
   "execution_count": 27,
   "metadata": {},
   "outputs": [],
   "source": [
    "# Program to show various ways to read and \n",
    "# write data in a file. replace biology with the name of the text file you want to save \n",
    "file1 = open(\"biology.txt\",\"w\") \n",
    "for i in range(0, pdfReader.numPages):\n",
    "    pageObj = pdfReader.getPage(i)\n",
    "    text = (pageObj.extractText())\n",
    "    \n",
    "",
    "\n",
    "# \\n is placed to indicate EOL (End of Line) \n",
    "    file1.write(\"\") \n",
    "    file1.writelines(text) \n",
    "file1.close() #to change file access modes "
   ]
  },
  {
   "cell_type": "code",
   "execution_count": null,
   "metadata": {},
   "outputs": [],
   "source": []
  }
 ],
 "metadata": {
  "kernelspec": {
   "display_name": "Python 3",
   "language": "python",
   "name": "python3"
  },
  "language_info": {
   "codemirror_mode": {
    "name": "ipython",
    "version": 3
   },
   "file_extension": ".py",
   "mimetype": "text/x-python",
   "name": "python",
   "nbconvert_exporter": "python",
   "pygments_lexer": "ipython3",
   "version": "3.7.3"
  }
 },
 "nbformat": 4,
 "nbformat_minor": 2
}
